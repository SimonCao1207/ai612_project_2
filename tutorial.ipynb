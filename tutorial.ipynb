{
 "cells": [
  {
   "cell_type": "code",
   "execution_count": 1,
   "metadata": {},
   "outputs": [
    {
     "name": "stdout",
     "output_type": "stream",
     "text": [
      "Requirement already satisfied: sqlparse in /nfs_edlab/wschay/anaconda3/envs/ai612_project_2/lib/python3.11/site-packages (from -r requirements.txt (line 1)) (0.5.3)\n",
      "Requirement already satisfied: streamlit in /nfs_edlab/wschay/anaconda3/envs/ai612_project_2/lib/python3.11/site-packages (from -r requirements.txt (line 2)) (1.44.1)\n",
      "Requirement already satisfied: litellm in /nfs_edlab/wschay/anaconda3/envs/ai612_project_2/lib/python3.11/site-packages (from -r requirements.txt (line 3)) (1.67.0)\n",
      "Requirement already satisfied: sqlalchemy in /nfs_edlab/wschay/anaconda3/envs/ai612_project_2/lib/python3.11/site-packages (from -r requirements.txt (line 4)) (2.0.40)\n",
      "Requirement already satisfied: altair<6,>=4.0 in /nfs_edlab/wschay/anaconda3/envs/ai612_project_2/lib/python3.11/site-packages (from streamlit->-r requirements.txt (line 2)) (5.5.0)\n",
      "Requirement already satisfied: blinker<2,>=1.0.0 in /nfs_edlab/wschay/anaconda3/envs/ai612_project_2/lib/python3.11/site-packages (from streamlit->-r requirements.txt (line 2)) (1.9.0)\n",
      "Requirement already satisfied: cachetools<6,>=4.0 in /nfs_edlab/wschay/anaconda3/envs/ai612_project_2/lib/python3.11/site-packages (from streamlit->-r requirements.txt (line 2)) (5.5.2)\n",
      "Requirement already satisfied: click<9,>=7.0 in /nfs_edlab/wschay/anaconda3/envs/ai612_project_2/lib/python3.11/site-packages (from streamlit->-r requirements.txt (line 2)) (8.1.8)\n",
      "Requirement already satisfied: numpy<3,>=1.23 in /nfs_edlab/wschay/anaconda3/envs/ai612_project_2/lib/python3.11/site-packages (from streamlit->-r requirements.txt (line 2)) (2.2.5)\n",
      "Collecting packaging<25,>=20 (from streamlit->-r requirements.txt (line 2))\n",
      "  Using cached packaging-24.2-py3-none-any.whl.metadata (3.2 kB)\n",
      "Requirement already satisfied: pandas<3,>=1.4.0 in /nfs_edlab/wschay/anaconda3/envs/ai612_project_2/lib/python3.11/site-packages (from streamlit->-r requirements.txt (line 2)) (2.2.3)\n",
      "Requirement already satisfied: pillow<12,>=7.1.0 in /nfs_edlab/wschay/anaconda3/envs/ai612_project_2/lib/python3.11/site-packages (from streamlit->-r requirements.txt (line 2)) (11.2.1)\n",
      "Requirement already satisfied: protobuf<6,>=3.20 in /nfs_edlab/wschay/anaconda3/envs/ai612_project_2/lib/python3.11/site-packages (from streamlit->-r requirements.txt (line 2)) (5.29.4)\n",
      "Requirement already satisfied: pyarrow>=7.0 in /nfs_edlab/wschay/anaconda3/envs/ai612_project_2/lib/python3.11/site-packages (from streamlit->-r requirements.txt (line 2)) (19.0.1)\n",
      "Requirement already satisfied: requests<3,>=2.27 in /nfs_edlab/wschay/anaconda3/envs/ai612_project_2/lib/python3.11/site-packages (from streamlit->-r requirements.txt (line 2)) (2.32.3)\n",
      "Requirement already satisfied: tenacity<10,>=8.1.0 in /nfs_edlab/wschay/anaconda3/envs/ai612_project_2/lib/python3.11/site-packages (from streamlit->-r requirements.txt (line 2)) (9.1.2)\n",
      "Requirement already satisfied: toml<2,>=0.10.1 in /nfs_edlab/wschay/anaconda3/envs/ai612_project_2/lib/python3.11/site-packages (from streamlit->-r requirements.txt (line 2)) (0.10.2)\n",
      "Requirement already satisfied: typing-extensions<5,>=4.4.0 in /nfs_edlab/wschay/anaconda3/envs/ai612_project_2/lib/python3.11/site-packages (from streamlit->-r requirements.txt (line 2)) (4.13.2)\n",
      "Requirement already satisfied: watchdog<7,>=2.1.5 in /nfs_edlab/wschay/anaconda3/envs/ai612_project_2/lib/python3.11/site-packages (from streamlit->-r requirements.txt (line 2)) (6.0.0)\n",
      "Requirement already satisfied: gitpython!=3.1.19,<4,>=3.0.7 in /nfs_edlab/wschay/anaconda3/envs/ai612_project_2/lib/python3.11/site-packages (from streamlit->-r requirements.txt (line 2)) (3.1.44)\n",
      "Requirement already satisfied: pydeck<1,>=0.8.0b4 in /nfs_edlab/wschay/anaconda3/envs/ai612_project_2/lib/python3.11/site-packages (from streamlit->-r requirements.txt (line 2)) (0.9.1)\n",
      "Requirement already satisfied: tornado<7,>=6.0.3 in /nfs_edlab/wschay/anaconda3/envs/ai612_project_2/lib/python3.11/site-packages (from streamlit->-r requirements.txt (line 2)) (6.4.2)\n",
      "Requirement already satisfied: aiohttp in /nfs_edlab/wschay/anaconda3/envs/ai612_project_2/lib/python3.11/site-packages (from litellm->-r requirements.txt (line 3)) (3.11.17)\n",
      "Requirement already satisfied: httpx>=0.23.0 in /nfs_edlab/wschay/anaconda3/envs/ai612_project_2/lib/python3.11/site-packages (from litellm->-r requirements.txt (line 3)) (0.28.1)\n",
      "Requirement already satisfied: importlib-metadata>=6.8.0 in /nfs_edlab/wschay/anaconda3/envs/ai612_project_2/lib/python3.11/site-packages (from litellm->-r requirements.txt (line 3)) (8.6.1)\n",
      "Requirement already satisfied: jinja2<4.0.0,>=3.1.2 in /nfs_edlab/wschay/anaconda3/envs/ai612_project_2/lib/python3.11/site-packages (from litellm->-r requirements.txt (line 3)) (3.1.6)\n",
      "Requirement already satisfied: jsonschema<5.0.0,>=4.22.0 in /nfs_edlab/wschay/anaconda3/envs/ai612_project_2/lib/python3.11/site-packages (from litellm->-r requirements.txt (line 3)) (4.23.0)\n",
      "Requirement already satisfied: openai>=1.68.2 in /nfs_edlab/wschay/anaconda3/envs/ai612_project_2/lib/python3.11/site-packages (from litellm->-r requirements.txt (line 3)) (1.75.0)\n",
      "Requirement already satisfied: pydantic<3.0.0,>=2.0.0 in /nfs_edlab/wschay/anaconda3/envs/ai612_project_2/lib/python3.11/site-packages (from litellm->-r requirements.txt (line 3)) (2.11.3)\n",
      "Requirement already satisfied: python-dotenv>=0.2.0 in /nfs_edlab/wschay/anaconda3/envs/ai612_project_2/lib/python3.11/site-packages (from litellm->-r requirements.txt (line 3)) (1.1.0)\n",
      "Requirement already satisfied: tiktoken>=0.7.0 in /nfs_edlab/wschay/anaconda3/envs/ai612_project_2/lib/python3.11/site-packages (from litellm->-r requirements.txt (line 3)) (0.9.0)\n",
      "Requirement already satisfied: tokenizers in /nfs_edlab/wschay/anaconda3/envs/ai612_project_2/lib/python3.11/site-packages (from litellm->-r requirements.txt (line 3)) (0.21.1)\n",
      "Requirement already satisfied: greenlet>=1 in /nfs_edlab/wschay/anaconda3/envs/ai612_project_2/lib/python3.11/site-packages (from sqlalchemy->-r requirements.txt (line 4)) (3.2.0)\n",
      "Requirement already satisfied: narwhals>=1.14.2 in /nfs_edlab/wschay/anaconda3/envs/ai612_project_2/lib/python3.11/site-packages (from altair<6,>=4.0->streamlit->-r requirements.txt (line 2)) (1.35.0)\n",
      "Requirement already satisfied: gitdb<5,>=4.0.1 in /nfs_edlab/wschay/anaconda3/envs/ai612_project_2/lib/python3.11/site-packages (from gitpython!=3.1.19,<4,>=3.0.7->streamlit->-r requirements.txt (line 2)) (4.0.12)\n",
      "Requirement already satisfied: anyio in /nfs_edlab/wschay/anaconda3/envs/ai612_project_2/lib/python3.11/site-packages (from httpx>=0.23.0->litellm->-r requirements.txt (line 3)) (4.9.0)\n",
      "Requirement already satisfied: certifi in /nfs_edlab/wschay/anaconda3/envs/ai612_project_2/lib/python3.11/site-packages (from httpx>=0.23.0->litellm->-r requirements.txt (line 3)) (2025.1.31)\n",
      "Requirement already satisfied: httpcore==1.* in /nfs_edlab/wschay/anaconda3/envs/ai612_project_2/lib/python3.11/site-packages (from httpx>=0.23.0->litellm->-r requirements.txt (line 3)) (1.0.8)\n",
      "Requirement already satisfied: idna in /nfs_edlab/wschay/anaconda3/envs/ai612_project_2/lib/python3.11/site-packages (from httpx>=0.23.0->litellm->-r requirements.txt (line 3)) (3.10)\n",
      "Requirement already satisfied: h11<0.15,>=0.13 in /nfs_edlab/wschay/anaconda3/envs/ai612_project_2/lib/python3.11/site-packages (from httpcore==1.*->httpx>=0.23.0->litellm->-r requirements.txt (line 3)) (0.14.0)\n",
      "Requirement already satisfied: zipp>=3.20 in /nfs_edlab/wschay/anaconda3/envs/ai612_project_2/lib/python3.11/site-packages (from importlib-metadata>=6.8.0->litellm->-r requirements.txt (line 3)) (3.21.0)\n",
      "Requirement already satisfied: MarkupSafe>=2.0 in /nfs_edlab/wschay/anaconda3/envs/ai612_project_2/lib/python3.11/site-packages (from jinja2<4.0.0,>=3.1.2->litellm->-r requirements.txt (line 3)) (3.0.2)\n",
      "Requirement already satisfied: attrs>=22.2.0 in /nfs_edlab/wschay/anaconda3/envs/ai612_project_2/lib/python3.11/site-packages (from jsonschema<5.0.0,>=4.22.0->litellm->-r requirements.txt (line 3)) (25.3.0)\n",
      "Requirement already satisfied: jsonschema-specifications>=2023.03.6 in /nfs_edlab/wschay/anaconda3/envs/ai612_project_2/lib/python3.11/site-packages (from jsonschema<5.0.0,>=4.22.0->litellm->-r requirements.txt (line 3)) (2024.10.1)\n",
      "Requirement already satisfied: referencing>=0.28.4 in /nfs_edlab/wschay/anaconda3/envs/ai612_project_2/lib/python3.11/site-packages (from jsonschema<5.0.0,>=4.22.0->litellm->-r requirements.txt (line 3)) (0.36.2)\n",
      "Requirement already satisfied: rpds-py>=0.7.1 in /nfs_edlab/wschay/anaconda3/envs/ai612_project_2/lib/python3.11/site-packages (from jsonschema<5.0.0,>=4.22.0->litellm->-r requirements.txt (line 3)) (0.24.0)\n",
      "Requirement already satisfied: distro<2,>=1.7.0 in /nfs_edlab/wschay/anaconda3/envs/ai612_project_2/lib/python3.11/site-packages (from openai>=1.68.2->litellm->-r requirements.txt (line 3)) (1.9.0)\n",
      "Requirement already satisfied: jiter<1,>=0.4.0 in /nfs_edlab/wschay/anaconda3/envs/ai612_project_2/lib/python3.11/site-packages (from openai>=1.68.2->litellm->-r requirements.txt (line 3)) (0.9.0)\n",
      "Requirement already satisfied: sniffio in /nfs_edlab/wschay/anaconda3/envs/ai612_project_2/lib/python3.11/site-packages (from openai>=1.68.2->litellm->-r requirements.txt (line 3)) (1.3.1)\n",
      "Requirement already satisfied: tqdm>4 in /nfs_edlab/wschay/anaconda3/envs/ai612_project_2/lib/python3.11/site-packages (from openai>=1.68.2->litellm->-r requirements.txt (line 3)) (4.67.1)\n",
      "Requirement already satisfied: python-dateutil>=2.8.2 in /nfs_edlab/wschay/anaconda3/envs/ai612_project_2/lib/python3.11/site-packages (from pandas<3,>=1.4.0->streamlit->-r requirements.txt (line 2)) (2.9.0.post0)\n",
      "Requirement already satisfied: pytz>=2020.1 in /nfs_edlab/wschay/anaconda3/envs/ai612_project_2/lib/python3.11/site-packages (from pandas<3,>=1.4.0->streamlit->-r requirements.txt (line 2)) (2025.2)\n",
      "Requirement already satisfied: tzdata>=2022.7 in /nfs_edlab/wschay/anaconda3/envs/ai612_project_2/lib/python3.11/site-packages (from pandas<3,>=1.4.0->streamlit->-r requirements.txt (line 2)) (2025.2)\n",
      "Requirement already satisfied: annotated-types>=0.6.0 in /nfs_edlab/wschay/anaconda3/envs/ai612_project_2/lib/python3.11/site-packages (from pydantic<3.0.0,>=2.0.0->litellm->-r requirements.txt (line 3)) (0.7.0)\n",
      "Requirement already satisfied: pydantic-core==2.33.1 in /nfs_edlab/wschay/anaconda3/envs/ai612_project_2/lib/python3.11/site-packages (from pydantic<3.0.0,>=2.0.0->litellm->-r requirements.txt (line 3)) (2.33.1)\n",
      "Requirement already satisfied: typing-inspection>=0.4.0 in /nfs_edlab/wschay/anaconda3/envs/ai612_project_2/lib/python3.11/site-packages (from pydantic<3.0.0,>=2.0.0->litellm->-r requirements.txt (line 3)) (0.4.0)\n",
      "Requirement already satisfied: charset-normalizer<4,>=2 in /nfs_edlab/wschay/anaconda3/envs/ai612_project_2/lib/python3.11/site-packages (from requests<3,>=2.27->streamlit->-r requirements.txt (line 2)) (3.4.1)\n",
      "Requirement already satisfied: urllib3<3,>=1.21.1 in /nfs_edlab/wschay/anaconda3/envs/ai612_project_2/lib/python3.11/site-packages (from requests<3,>=2.27->streamlit->-r requirements.txt (line 2)) (2.4.0)\n",
      "Requirement already satisfied: regex>=2022.1.18 in /nfs_edlab/wschay/anaconda3/envs/ai612_project_2/lib/python3.11/site-packages (from tiktoken>=0.7.0->litellm->-r requirements.txt (line 3)) (2024.11.6)\n",
      "Requirement already satisfied: aiohappyeyeballs>=2.3.0 in /nfs_edlab/wschay/anaconda3/envs/ai612_project_2/lib/python3.11/site-packages (from aiohttp->litellm->-r requirements.txt (line 3)) (2.6.1)\n",
      "Requirement already satisfied: aiosignal>=1.1.2 in /nfs_edlab/wschay/anaconda3/envs/ai612_project_2/lib/python3.11/site-packages (from aiohttp->litellm->-r requirements.txt (line 3)) (1.3.2)\n",
      "Requirement already satisfied: frozenlist>=1.1.1 in /nfs_edlab/wschay/anaconda3/envs/ai612_project_2/lib/python3.11/site-packages (from aiohttp->litellm->-r requirements.txt (line 3)) (1.6.0)\n",
      "Requirement already satisfied: multidict<7.0,>=4.5 in /nfs_edlab/wschay/anaconda3/envs/ai612_project_2/lib/python3.11/site-packages (from aiohttp->litellm->-r requirements.txt (line 3)) (6.4.3)\n",
      "Requirement already satisfied: propcache>=0.2.0 in /nfs_edlab/wschay/anaconda3/envs/ai612_project_2/lib/python3.11/site-packages (from aiohttp->litellm->-r requirements.txt (line 3)) (0.3.1)\n",
      "Requirement already satisfied: yarl<2.0,>=1.17.0 in /nfs_edlab/wschay/anaconda3/envs/ai612_project_2/lib/python3.11/site-packages (from aiohttp->litellm->-r requirements.txt (line 3)) (1.20.0)\n",
      "Requirement already satisfied: huggingface-hub<1.0,>=0.16.4 in /nfs_edlab/wschay/anaconda3/envs/ai612_project_2/lib/python3.11/site-packages (from tokenizers->litellm->-r requirements.txt (line 3)) (0.30.2)\n",
      "Requirement already satisfied: smmap<6,>=3.0.1 in /nfs_edlab/wschay/anaconda3/envs/ai612_project_2/lib/python3.11/site-packages (from gitdb<5,>=4.0.1->gitpython!=3.1.19,<4,>=3.0.7->streamlit->-r requirements.txt (line 2)) (5.0.2)\n",
      "Requirement already satisfied: filelock in /nfs_edlab/wschay/anaconda3/envs/ai612_project_2/lib/python3.11/site-packages (from huggingface-hub<1.0,>=0.16.4->tokenizers->litellm->-r requirements.txt (line 3)) (3.18.0)\n",
      "Requirement already satisfied: fsspec>=2023.5.0 in /nfs_edlab/wschay/anaconda3/envs/ai612_project_2/lib/python3.11/site-packages (from huggingface-hub<1.0,>=0.16.4->tokenizers->litellm->-r requirements.txt (line 3)) (2025.3.2)\n",
      "Requirement already satisfied: pyyaml>=5.1 in /nfs_edlab/wschay/anaconda3/envs/ai612_project_2/lib/python3.11/site-packages (from huggingface-hub<1.0,>=0.16.4->tokenizers->litellm->-r requirements.txt (line 3)) (6.0.2)\n",
      "Requirement already satisfied: six>=1.5 in /nfs_edlab/wschay/anaconda3/envs/ai612_project_2/lib/python3.11/site-packages (from python-dateutil>=2.8.2->pandas<3,>=1.4.0->streamlit->-r requirements.txt (line 2)) (1.17.0)\n",
      "Using cached packaging-24.2-py3-none-any.whl (65 kB)\n",
      "Installing collected packages: packaging\n",
      "  Attempting uninstall: packaging\n",
      "    Found existing installation: packaging 25.0\n",
      "    Uninstalling packaging-25.0:\n",
      "      Successfully uninstalled packaging-25.0\n",
      "Successfully installed packaging-24.2\n"
     ]
    }
   ],
   "source": [
    "! pip install -r requirements.txt"
   ]
  },
  {
   "cell_type": "markdown",
   "metadata": {},
   "source": [
    "# Tutorial for Project 2\n",
    "\n",
    "## Outline\n",
    "1. Prerequisites\n",
    "2. Clone the GitHub Repository and Install Dependencies\n",
    "3. User Agent\n",
    "4. Tool-calling DB Agent using GPT-4o-mini\n",
    "5. Running Inference\n",
    "6. Viewing the Conversation Trajectories\n",
    "7. Submission"
   ]
  },
  {
   "cell_type": "markdown",
   "metadata": {},
   "source": [
    "## Prerequisites"
   ]
  },
  {
   "cell_type": "markdown",
   "metadata": {},
   "source": [
    "### Set OpenAI API key"
   ]
  },
  {
   "cell_type": "code",
   "execution_count": 4,
   "metadata": {},
   "outputs": [],
   "source": [
    "import getpass\n",
    "from IPython.display import clear_output\n",
    "\n",
    "clear_output()\n",
    "# Please enter your API key\n",
    "new_api_key = ''\n",
    "while len(new_api_key) == 0:\n",
    "    new_api_key = getpass.getpass(\"Please input your API key: \")\n",
    "    clear_output()"
   ]
  },
  {
   "cell_type": "markdown",
   "metadata": {},
   "source": [
    "### Clone the GitHub Repository and Install Dependencies"
   ]
  },
  {
   "cell_type": "code",
   "execution_count": null,
   "metadata": {},
   "outputs": [],
   "source": [
    "%cd /content\n",
    "!rm -rf ai612_project_2"
   ]
  },
  {
   "cell_type": "code",
   "execution_count": null,
   "metadata": {},
   "outputs": [],
   "source": [
    "# Cloning the GitHub repository\n",
    "!git clone -q https://github.com/benchay1999/ai612_project_2.git\n",
    "%cd ai612_project_2\n",
    "\n",
    "# Installing dependencies\n",
    "! pip install -r -q requirements.txt"
   ]
  },
  {
   "cell_type": "markdown",
   "metadata": {},
   "source": [
    "## User Agent\n",
    "\n",
    "Where it is, how it is implemented\n",
    "\n",
    "\n",
    "## Baseline: Tool-calling Agent\n",
    "\n",
    "### Tools\n",
    "\n",
    "what tools we are going to use, how to define them, where to save them, how to call them\n",
    "\n",
    "### Running\n",
    "\n",
    "shell scripts\n",
    "\n",
    "## What you need to do:\n",
    "1. Implement your own agent in `src/agents/` (`TODO_implement_agent.py`)\n",
    "2. Implement the tools your agent will use in `src/envs/mimic_iv/tools/` (`TODO_implement_tool.py`)\n",
    "3. Change `src/envs/mimic_iv/env.py` to update the tools the DB agent can use in the environment.\n",
    "4. Change `src/agent_factory.py` to make it able to call your implemented agent.\n",
    "\n",
    "## Viewing Conversation Trajectories\n",
    "\n",
    "## Submission"
   ]
  },
  {
   "cell_type": "markdown",
   "metadata": {},
   "source": []
  },
  {
   "cell_type": "markdown",
   "metadata": {},
   "source": []
  }
 ],
 "metadata": {
  "language_info": {
   "name": "python"
  }
 },
 "nbformat": 4,
 "nbformat_minor": 2
}
